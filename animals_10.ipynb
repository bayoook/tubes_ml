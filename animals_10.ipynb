{
 "cells": [
  {
   "cell_type": "code",
   "execution_count": null,
   "metadata": {
    "_cell_guid": "b1076dfc-b9ad-4769-8c92-a6c4dae69d19",
    "_uuid": "8f2839f25d086af736a60e9eeb907d3b93b6e0e5"
   },
   "outputs": [],
   "source": [
    "import numpy as np\n",
    "import pandas as pd\n",
    "import os\n",
    "import cv2\n",
    "import matplotlib.pyplot as plt\n",
    "from tqdm import tqdm_notebook as tqdm\n",
    "from sklearn.utils import class_weight, shuffle\n",
    "\n",
    "from keras import applications\n",
    "from keras import optimizers\n",
    "from keras.utils import to_categorical\n",
    "from keras.models import Sequential, Model, load_model\n",
    "from keras.layers import Dropout, Flatten, Dense\n",
    "from keras.preprocessing.image import ImageDataGenerator\n",
    "from keras.callbacks import ModelCheckpoint"
   ]
  },
  {
   "cell_type": "code",
   "execution_count": null,
   "metadata": {
    "_cell_guid": "79c7e3d0-c299-4dcb-8224-4455121ee9b0",
    "_uuid": "d629ff2d2480ee46fbb7e2d37f6b5fab8052498a"
   },
   "outputs": [],
   "source": [
    "foldernames = os.listdir('/kaggle/input/animals10/animals/raw-img')\n",
    "categories = []\n",
    "files = []\n",
    "i = 0\n",
    "for k, folder in enumerate(foldernames):\n",
    "    filenames = os.listdir(\"../input/animals10/animals/raw-img/\" + folder);\n",
    "    for file in filenames:\n",
    "        files.append(\"../input/animals10/animals/raw-img/\" + folder + \"/\" + file)\n",
    "        categories.append(k)\n",
    "        \n",
    "df = pd.DataFrame({\n",
    "    'filename': files,\n",
    "    'category': categories\n",
    "})\n",
    "train_df = pd.DataFrame(columns=['filename', 'category'])\n",
    "for i in range(10):\n",
    "    train_df = train_df.append(df[df.category == i].iloc[:500,:])\n",
    "\n",
    "train_df.head()\n",
    "train_df = train_df.reset_index(drop=True)\n",
    "train_df"
   ]
  },
  {
   "cell_type": "code",
   "execution_count": null,
   "metadata": {},
   "outputs": [],
   "source": [
    "y = train_df['category']\n",
    "x = train_df['filename']\n",
    "y = train_df['category']\n",
    "\n",
    "x, y = shuffle(x, y, random_state=8)"
   ]
  },
  {
   "cell_type": "code",
   "execution_count": null,
   "metadata": {},
   "outputs": [],
   "source": [
    "def centering_image(img):\n",
    "    size = [256,256]\n",
    "    \n",
    "    img_size = img.shape[:2]\n",
    "    \n",
    "    # centering\n",
    "    row = (size[1] - img_size[0]) // 2\n",
    "    col = (size[0] - img_size[1]) // 2\n",
    "    resized = np.zeros(list(size) + [img.shape[2]], dtype=np.uint8)\n",
    "    resized[row:(row + img.shape[0]), col:(col + img.shape[1])] = img\n",
    "\n",
    "    return resized\n",
    "\n",
    "images = []\n",
    "with tqdm(total=len(train_df)) as pbar:\n",
    "    for i, file_path in enumerate(train_df.filename.values):\n",
    "        #read image\n",
    "        img = cv2.imread(file_path)\n",
    "        img = cv2.cvtColor(img, cv2.COLOR_BGR2RGB)\n",
    "\n",
    "        #resize\n",
    "        if(img.shape[0] > img.shape[1]):\n",
    "            tile_size = (int(img.shape[1]*256/img.shape[0]),256)\n",
    "        else:\n",
    "            tile_size = (256, int(img.shape[0]*256/img.shape[1]))\n",
    "\n",
    "        #centering\n",
    "        img = centering_image(cv2.resize(img, dsize=tile_size))\n",
    "\n",
    "        #out put 224*224px \n",
    "        img = img[16:240, 16:240]\n",
    "        images.append(img)\n",
    "        pbar.update(1)\n",
    "\n",
    "images = np.array(images)"
   ]
  },
  {
   "cell_type": "code",
   "execution_count": null,
   "metadata": {},
   "outputs": [],
   "source": [
    "rows,cols = 2,5\n",
    "fig, axes = plt.subplots(nrows=rows, ncols=cols, figsize=(20,20))\n",
    "for i in range(10):\n",
    "    path = train_df[train_df.category == i].values[2]\n",
    "#     image = cv2.imread(path[0])\n",
    "    axes[i//cols, i%cols].set_title(path[0].split('/')[-2] + str(path[1]))\n",
    "    axes[i//cols, i%cols].imshow(images[train_df[train_df.filename == path[0]].index[0]])"
   ]
  },
  {
   "cell_type": "code",
   "execution_count": null,
   "metadata": {},
   "outputs": [],
   "source": [
    "data_num = len(y)\n",
    "random_index = np.random.permutation(data_num)\n",
    "\n",
    "x_shuffle = []\n",
    "y_shuffle = []\n",
    "for i in range(data_num):\n",
    "    x_shuffle.append(images[random_index[i]])\n",
    "    y_shuffle.append(y[random_index[i]])\n",
    "    \n",
    "x = np.array(x_shuffle) \n",
    "y = np.array(y_shuffle)\n",
    "val_split_num = int(round(0.2*len(y)))\n",
    "x_train = x[val_split_num:]\n",
    "y_train = y[val_split_num:]\n",
    "x_test = x[:val_split_num]\n",
    "y_test = y[:val_split_num]\n",
    "\n",
    "print('x_train', x_train.shape)\n",
    "print('y_train', y_train.shape)\n",
    "print('x_test', x_test.shape)\n",
    "print('y_test', y_test.shape)\n",
    "y_train = to_categorical(y_train)\n",
    "y_test = to_categorical(y_test)\n",
    "\n",
    "x_train = x_train.astype('float32')\n",
    "x_test = x_test.astype('float32')\n",
    "x_train /= 255\n",
    "x_test /= 255\n",
    "\n",
    "img_rows, img_cols, img_channel = 224, 224, 3"
   ]
  },
  {
   "cell_type": "code",
   "execution_count": null,
   "metadata": {},
   "outputs": [],
   "source": [
    "base_model = applications.VGG16(weights='imagenet', include_top=False, input_shape=(img_rows, img_cols, img_channel))\n",
    "\n",
    "add_model = Sequential()\n",
    "add_model.add(Flatten(input_shape=base_model.output_shape[1:]))\n",
    "add_model.add(Dense(256, activation='relu'))\n",
    "add_model.add(Dense(10, activation='softmax'))\n",
    "\n",
    "model = Model(inputs=base_model.input, outputs=add_model(base_model.output))\n",
    "model.compile(loss='binary_crossentropy', optimizer=optimizers.SGD(lr=1e-4, momentum=0.9),\n",
    "              metrics=['accuracy'])\n",
    "\n",
    "model.summary()"
   ]
  },
  {
   "cell_type": "code",
   "execution_count": null,
   "metadata": {},
   "outputs": [],
   "source": [
    "batch_size = 32\n",
    "epochs = 50\n",
    "\n",
    "train_datagen = ImageDataGenerator(\n",
    "        rotation_range=30, \n",
    "        width_shift_range=0.1,\n",
    "        height_shift_range=0.1, \n",
    "        horizontal_flip=True)\n",
    "train_datagen.fit(x_train)\n",
    "\n",
    "\n",
    "history = model.fit_generator(\n",
    "    train_datagen.flow(x_train, y_train, batch_size=batch_size),\n",
    "    steps_per_epoch=x_train.shape[0] // batch_size,\n",
    "    epochs=epochs,\n",
    "    validation_data=(x_test, y_test),\n",
    "    callbacks=[ModelCheckpoint('VGG16-transferlearning.model', monitor='val_acc')]\n",
    ")"
   ]
  },
  {
   "cell_type": "code",
   "execution_count": null,
   "metadata": {},
   "outputs": [],
   "source": [
    "print(\"KNN: Epochs={0:d}, Train accuracy={1:.5f}, Validation accuracy={2:.5f}\".format(epochs,history.history['accuracy'][epochs-1],history.history['val_accuracy'][epochs-1]))\n",
    "def show_plots(history):\n",
    "    \"\"\" Useful function to view plot of loss values & accuracies across the various epochs \"\"\"\n",
    "    loss_vals = history['loss']\n",
    "    val_loss_vals = history['val_loss']\n",
    "    epochs = range(1, len(history['accuracy'])+1)\n",
    "    \n",
    "    f, ax = plt.subplots(nrows=1,ncols=2,figsize=(16,4))\n",
    "    \n",
    "    # plot losses on ax[0]\n",
    "    ax[0].plot(epochs, loss_vals, color='navy',marker='o', linestyle=' ', label='Training Loss')\n",
    "    ax[0].plot(epochs, val_loss_vals, color='firebrick', marker='*', label='Validation Loss')\n",
    "    ax[0].set_title('Training & Validation Loss')\n",
    "    ax[0].set_xlabel('Epochs')\n",
    "    ax[0].set_ylabel('Loss')\n",
    "    ax[0].legend(loc='best')\n",
    "    ax[0].grid(True)\n",
    "    \n",
    "    # plot accuracies\n",
    "    acc_vals = history['accuracy']\n",
    "    val_acc_vals = history['val_accuracy']\n",
    "\n",
    "    ax[1].plot(epochs, acc_vals, color='navy', marker='o', ls=' ', label='Training Accuracy')\n",
    "    ax[1].plot(epochs, val_acc_vals, color='firebrick', marker='*', label='Validation Accuracy')\n",
    "    ax[1].set_title('Training & Validation Accuracy')\n",
    "    ax[1].set_xlabel('Epochs')\n",
    "    ax[1].set_ylabel('Accuracy')\n",
    "    ax[1].legend(loc='best')\n",
    "    ax[1].grid(True)\n",
    "    \n",
    "    plt.show()\n",
    "    plt.close()\n",
    "    \n",
    "    # delete locals from heap before exiting\n",
    "    del loss_vals, val_loss_vals, epochs, acc_vals, val_acc_vals\n",
    "show_plots(history.history)"
   ]
  },
  {
   "cell_type": "code",
   "execution_count": null,
   "metadata": {
    "pycharm": {
     "name": "#%%\n"
    }
   },
   "outputs": [],
   "source": [
    "test_images = []\n",
    "for i in range(10):\n",
    "    path = train_df[train_df.category == i].values[242]\n",
    "    a = images[train_df[train_df.filename == path[0]].index[0]]\n",
    "    img = np.array(a)\n",
    "    img = img[:, :, ::-1].copy() \n",
    "    img = cv2.cvtColor(img, cv2.COLOR_BGR2RGB)\n",
    "    if(img.shape[0] > img.shape[1]):\n",
    "        tile_size = (int(img.shape[1]*256/img.shape[0]),256)\n",
    "    else:\n",
    "        tile_size = (256, int(img.shape[0]*256/img.shape[1]))\n",
    "    img = centering_image(cv2.resize(img, dsize=tile_size))\n",
    "    img = img[16:240, 16:240]\n",
    "    test_images.append(img)\n",
    "\n",
    "test_images = np.array(test_images).reshape(-1,224,224,3)\n",
    "something = model.predict(test_images)\n",
    "animals = ['kucing', 'laba-laba', 'anjing', 'ayam', 'domba', 'gajah', 'tupai', 'kupu-kupu', 'sapi', 'kuda'] # Kaggle\n",
    "animals = ['anjing', 'tupai', 'gajah', 'kuda', 'laba-laba', 'ayam', 'domba', 'kucing', 'sapi', 'kupu-kupu'] # Colab\n",
    "i = 0\n",
    "for pred in something:\n",
    "    path = train_df[train_df.category == i].values[2]\n",
    "    plt.imshow(test_images[i])\n",
    "    plt.show()\n",
    "    print('Actual  :', animals[i])\n",
    "    print('Predict :', animals[np.where(pred.max() == pred)[0][0]])\n",
    "    i += 1\n"
   ]
  }
 ],
 "metadata": {
  "kernelspec": {
   "display_name": "Python 3",
   "language": "python",
   "name": "python3"
  },
  "language_info": {
   "codemirror_mode": {
    "name": "ipython",
    "version": 3
   },
   "file_extension": ".py",
   "mimetype": "text/x-python",
   "name": "python",
   "nbconvert_exporter": "python",
   "pygments_lexer": "ipython3",
   "version": "3.7.5"
  },
  "pycharm": {
   "stem_cell": {
    "cell_type": "raw",
    "source": [],
    "metadata": {
     "collapsed": false
    }
   }
  }
 },
 "nbformat": 4,
 "nbformat_minor": 1
}